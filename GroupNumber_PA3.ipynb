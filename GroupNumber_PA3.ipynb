{
 "cells": [
  {
   "attachments": {},
   "cell_type": "markdown",
   "metadata": {},
   "source": [
    "# Intro to AI (CS331): Project 3\n",
    "#### Name:\n",
    "#### Roll Number:\n"
   ]
  },
  {
   "attachments": {},
   "cell_type": "markdown",
   "metadata": {},
   "source": [
    "Feel free to import any other libraries that you might need in the cell below"
   ]
  },
  {
   "cell_type": "code",
   "execution_count": 33,
   "metadata": {},
   "outputs": [],
   "source": [
    "import numpy as np\n",
    "from glob import glob\n",
    "import matplotlib.pyplot as plt\n",
    "import cv2\n",
    "import sklearn\n",
    "from sklearn.model_selection import train_test_split\n",
    "import pandas as pd\n",
    "from sklearn import preprocessing\n",
    "from sklearn.neural_network import MLPClassifier\n",
    "from sklearn.metrics import accuracy_score, f1_score, confusion_matrix\n",
    "import seaborn as sns\n",
    "from sklearn.preprocessing import LabelEncoder\n",
    "\n",
    "import random"
   ]
  },
  {
   "attachments": {},
   "cell_type": "markdown",
   "metadata": {},
   "source": [
    "# PART 1 [Decision Trees]\n",
    "### [35 marks]\n",
    "In this part, you have to implement the ID3 algorithm that you studied in class on a simple dataset.\n",
    "## Dataset\n",
    "You are provided with `car.txt`. It is a simple text file where each line represents a row of data. The details of what each feature represents is provided in the manual. Using this dataset, perform the following actions:\n",
    "1. The dataset has 4 class values: \n",
    "- unacc\n",
    "- acc\n",
    "- good\n",
    "- very good\n",
    "\n",
    "For simplifying the implementation of ID3 algorithm, we are going to change this to make only two classes: unacc and good. \n",
    "All the instances where class is unacc will remain unacc, but all the instances where the class is anything other than unacc (acc, good, or vey good), all of these would be changed to \"good\" and come under the same class.\n",
    "\n",
    "2. The dataset at the moment is quite large with more than 1700 rows and has a class imbalance as well. Reduce this to get a training dataset of 500 instances and a test dataset of 100 instances, both with roughly equal instances of both class values. \n",
    "3. Lastly, we will change the categorical variables to numbers to make it easier to work with. The conversion is given in the manual. However, do store the conversion somehwere as you are going to need to convert it back at the end to show the descision tree.\n",
    "4. As for how to show the decision tree, that is upto your descretion. The simplest way would be to represent it as dictionary of dictionaries, similar to the example given in the manual.\n",
    "5. Finally, evaluate your decision tree accuracy by running it for the test dataset and reporting the accuracy."
   ]
  },
  {
   "cell_type": "code",
   "execution_count": 2,
   "metadata": {},
   "outputs": [],
   "source": [
    "# code here"
   ]
  },
  {
   "attachments": {},
   "cell_type": "markdown",
   "metadata": {},
   "source": [
    "# PART 2 [Classification using DNN libraries]\n",
    "### [15 marks]"
   ]
  },
  {
   "cell_type": "markdown",
   "metadata": {},
   "source": [
    "In this task you will be working with image data to type of image using sklearns MLP classifier."
   ]
  },
  {
   "cell_type": "markdown",
   "metadata": {},
   "source": [
    "### Task 1: Make the data set"
   ]
  },
  {
   "cell_type": "markdown",
   "metadata": {},
   "source": [
    "#### The images are present in a directory with the following structure: \n",
    "\n",
    "```\n",
    "Dataset\n",
    "│    \n",
    "└───train_data\n",
    "│   │...\n",
    "│   └───subfolders\n",
    "│       │   image1.jpg\n",
    "│       │   image2.jpg\n",
    "│       │   ...\n",
    "│   \n",
    "└───test_data\n",
    "    │...\n",
    "    └───subfolders\n",
    "        │   image1.jpg\n",
    "        │   image2.jpg\n",
    "        │   ...\n",
    "\n",
    "```\n",
    "Your task is to read the images from path, and store them in a numpy array to make your train and test set. A skeleton code has been provided to resize and read image from path. Sample pre-processing steps have been provided, feel free to play with it, remove or alter it as you see fit.\n",
    "\n",
    "\n",
    "Code provided is for notebook being run in windows environement, make necessary changes in path for colab, linux and macos\n"
   ]
  },
  {
   "cell_type": "code",
   "execution_count": 18,
   "metadata": {},
   "outputs": [],
   "source": [
    "images_train = []\n",
    "labels_train =[]\n",
    "folder_path = 'Dataset/train_data'\n",
    "for  img in glob(folder_path+\"/**/*.jpg\"):\n",
    "    name = img.split('/')\n",
    "    img_data = cv2.imread(img)\n",
    "    img_data = cv2.cvtColor(img_data, cv2.COLOR_BGR2GRAY)\n",
    "    img_data = cv2.resize(img_data, (20,20), interpolation= cv2.INTER_LINEAR)\n",
    "    images_train.append(img_data)\n",
    "    labels_train.append(name[2])\n",
    "    \n",
    "folder_path = 'Dataset/test_data'\n",
    "images_test = []\n",
    "labels_test =[]\n",
    "for  img in glob(folder_path+\"/**/*.jpg\"):\n",
    "    name = img.split('/')\n",
    "    img_data = cv2.imread(img)\n",
    "    img_data = cv2.cvtColor(img_data, cv2.COLOR_BGR2GRAY)\n",
    "    img_data = cv2.resize(img_data, (20,20), interpolation= cv2.INTER_LINEAR)\n",
    "    images_test.append(img_data)\n",
    "    labels_test.append(name[2])\n",
    "\n",
    "# print(len(images_test))\n",
    "# print(len(labels_test))\n"
   ]
  },
  {
   "cell_type": "code",
   "execution_count": 22,
   "metadata": {},
   "outputs": [
    {
     "name": "stdout",
     "output_type": "stream",
     "text": [
      "3000\n"
     ]
    }
   ],
   "source": [
    "\n",
    "# print(labels_train[3])\n",
    "# print(len(labels_test))"
   ]
  },
  {
   "cell_type": "markdown",
   "metadata": {},
   "source": [
    "### Preprocess the labels to integer encoding. Sklearns label encoder might help you with this. But you may use any other technique including one hot vectors if you wish\n",
    "\n",
    "Hint: Making a pandas dataframe out of the labels might be helpful"
   ]
  },
  {
   "cell_type": "code",
   "execution_count": 25,
   "metadata": {},
   "outputs": [
    {
     "name": "stdout",
     "output_type": "stream",
     "text": [
      "      label\n",
      "0         1\n",
      "1         1\n",
      "2         1\n",
      "3         1\n",
      "4         1\n",
      "...     ...\n",
      "2995      4\n",
      "2996      4\n",
      "2997      4\n",
      "2998      4\n",
      "2999      4\n",
      "\n",
      "[3000 rows x 1 columns]\n"
     ]
    }
   ],
   "source": [
    "images_train = []\n",
    "labels_train =[]\n",
    "folder_path = 'Dataset/train_data'\n",
    "for  img in glob(folder_path+\"/**/*.jpg\"):\n",
    "    name = img.split('/')\n",
    "    img_data = cv2.imread(img)\n",
    "    img_data = cv2.cvtColor(img_data, cv2.COLOR_BGR2GRAY)\n",
    "    img_data = cv2.resize(img_data, (20,20), interpolation= cv2.INTER_LINEAR)\n",
    "    images_train.append(img_data)\n",
    "    labels_train.append(name[2])\n",
    "    \n",
    "folder_path = 'Dataset/test_data'\n",
    "images_test = []\n",
    "labels_test =[]\n",
    "for  img in glob(folder_path+\"/**/*.jpg\"):\n",
    "    name = img.split('/')\n",
    "    img_data = cv2.imread(img)\n",
    "    img_data = cv2.cvtColor(img_data, cv2.COLOR_BGR2GRAY)\n",
    "    img_data = cv2.resize(img_data, (20,20), interpolation= cv2.INTER_LINEAR)\n",
    "    images_test.append(img_data)\n",
    "    labels_test.append(name[2])\n",
    "\n",
    "\n",
    "label_enc = LabelEncoder()\n",
    "labels_train = label_enc.fit_transform(labels_train)\n",
    "labels_test = label_enc.transform(labels_test)\n",
    "\n",
    "labels_train_df = pd.DataFrame({'label': labels_train})\n",
    "labels_train_df['label'] = label_enc.inverse_transform(labels_train_df['label'])\n",
    "labels_test_df = pd.DataFrame({'label': labels_test})\n",
    "labels_test_df['label'] = label_enc.inverse_transform(labels_test_df['label'])\n",
    "\n",
    "# Print the first 5 labels\n",
    "print(labels_test_df)"
   ]
  },
  {
   "cell_type": "code",
   "execution_count": null,
   "metadata": {},
   "outputs": [],
   "source": [
    "#make a neural network using Sklearn's MLP classifier.\n",
    "# initialize these hyperparameters\n",
    "max_iteration = 1000\n",
    "learning_rate = 0.001\n",
    "hidden_layers = (100,50,) # tuple in the form (n-t,...,n-2,n-1,n,)  dont forget the last ','\n",
    "\n",
    "#next, train the classifier and make sure to use 20% data as validation set.\n",
    "\n",
    "#initiliaze model here\n",
    "\n",
    "\n",
    "#train model here\n",
    "\n",
    "#now, display the accuracy and f1 score on the test data set using sklearn's built in functions\n",
    "\n",
    "#now display the confusion matrix,\n",
    "#using sklearns built in function and seaborn for visualization, make sure to annonate the classes\n",
    "\n",
    "\n"
   ]
  },
  {
   "cell_type": "markdown",
   "metadata": {},
   "source": [
    "### Making the Neural Network\n",
    "\n",
    "You will be using Sklearns MLPClassifier for this task. Please dont use Tensorflow, pytorch or any other liabrary or a CNN based model etc. "
   ]
  },
  {
   "cell_type": "code",
   "execution_count": 26,
   "metadata": {},
   "outputs": [],
   "source": [
    "# hyper parameters initialization\n",
    "\n",
    "max_iteration = 1000\n",
    "learning_rate = 0.001\n",
    "hidden_layers = (100,50,) # tuple in the form (n-t,...,n-2,n-1,n,)  dont forget the last ','\n"
   ]
  },
  {
   "cell_type": "markdown",
   "metadata": {},
   "source": [
    "### Train the classifier and make sure to use 20% data as validation set"
   ]
  },
  {
   "cell_type": "code",
   "execution_count": 35,
   "metadata": {},
   "outputs": [
    {
     "name": "stdout",
     "output_type": "stream",
     "text": [
      "11227\n",
      "11227\n"
     ]
    }
   ],
   "source": [
    "#initialize model\n",
    "X_train, X_val, y_train, y_val = train_test_split(images_train, labels_train, test_size=0.2, random_state=42)\n",
    "clf = MLPClassifier(hidden_layer_sizes=hidden_layers, max_iter=max_iteration, learning_rate_init=learning_rate)\n",
    "\n",
    "X_train = np.array(images_train).reshape(len(images_train), -1)\n",
    "X_test = np.array(images_test).reshape(len(images_test), -1)\n",
    "\n",
    "# Get the number of samples in y_train\n",
    "num_samples = len(y_train)\n",
    "\n",
    "# Get a random subset of X_train with the same number of samples\n",
    "X_train_subset = random.sample(X_train.tolist(), num_samples)\n",
    "\n",
    "# Replace X_train with the subset\n",
    "X_train = np.array(X_train_subset)\n",
    "\n",
    "print(len(X_train))\n",
    "print(len(y_train))"
   ]
  },
  {
   "cell_type": "code",
   "execution_count": 36,
   "metadata": {},
   "outputs": [
    {
     "data": {
      "text/html": [
       "<style>#sk-container-id-1 {color: black;background-color: white;}#sk-container-id-1 pre{padding: 0;}#sk-container-id-1 div.sk-toggleable {background-color: white;}#sk-container-id-1 label.sk-toggleable__label {cursor: pointer;display: block;width: 100%;margin-bottom: 0;padding: 0.3em;box-sizing: border-box;text-align: center;}#sk-container-id-1 label.sk-toggleable__label-arrow:before {content: \"▸\";float: left;margin-right: 0.25em;color: #696969;}#sk-container-id-1 label.sk-toggleable__label-arrow:hover:before {color: black;}#sk-container-id-1 div.sk-estimator:hover label.sk-toggleable__label-arrow:before {color: black;}#sk-container-id-1 div.sk-toggleable__content {max-height: 0;max-width: 0;overflow: hidden;text-align: left;background-color: #f0f8ff;}#sk-container-id-1 div.sk-toggleable__content pre {margin: 0.2em;color: black;border-radius: 0.25em;background-color: #f0f8ff;}#sk-container-id-1 input.sk-toggleable__control:checked~div.sk-toggleable__content {max-height: 200px;max-width: 100%;overflow: auto;}#sk-container-id-1 input.sk-toggleable__control:checked~label.sk-toggleable__label-arrow:before {content: \"▾\";}#sk-container-id-1 div.sk-estimator input.sk-toggleable__control:checked~label.sk-toggleable__label {background-color: #d4ebff;}#sk-container-id-1 div.sk-label input.sk-toggleable__control:checked~label.sk-toggleable__label {background-color: #d4ebff;}#sk-container-id-1 input.sk-hidden--visually {border: 0;clip: rect(1px 1px 1px 1px);clip: rect(1px, 1px, 1px, 1px);height: 1px;margin: -1px;overflow: hidden;padding: 0;position: absolute;width: 1px;}#sk-container-id-1 div.sk-estimator {font-family: monospace;background-color: #f0f8ff;border: 1px dotted black;border-radius: 0.25em;box-sizing: border-box;margin-bottom: 0.5em;}#sk-container-id-1 div.sk-estimator:hover {background-color: #d4ebff;}#sk-container-id-1 div.sk-parallel-item::after {content: \"\";width: 100%;border-bottom: 1px solid gray;flex-grow: 1;}#sk-container-id-1 div.sk-label:hover label.sk-toggleable__label {background-color: #d4ebff;}#sk-container-id-1 div.sk-serial::before {content: \"\";position: absolute;border-left: 1px solid gray;box-sizing: border-box;top: 0;bottom: 0;left: 50%;z-index: 0;}#sk-container-id-1 div.sk-serial {display: flex;flex-direction: column;align-items: center;background-color: white;padding-right: 0.2em;padding-left: 0.2em;position: relative;}#sk-container-id-1 div.sk-item {position: relative;z-index: 1;}#sk-container-id-1 div.sk-parallel {display: flex;align-items: stretch;justify-content: center;background-color: white;position: relative;}#sk-container-id-1 div.sk-item::before, #sk-container-id-1 div.sk-parallel-item::before {content: \"\";position: absolute;border-left: 1px solid gray;box-sizing: border-box;top: 0;bottom: 0;left: 50%;z-index: -1;}#sk-container-id-1 div.sk-parallel-item {display: flex;flex-direction: column;z-index: 1;position: relative;background-color: white;}#sk-container-id-1 div.sk-parallel-item:first-child::after {align-self: flex-end;width: 50%;}#sk-container-id-1 div.sk-parallel-item:last-child::after {align-self: flex-start;width: 50%;}#sk-container-id-1 div.sk-parallel-item:only-child::after {width: 0;}#sk-container-id-1 div.sk-dashed-wrapped {border: 1px dashed gray;margin: 0 0.4em 0.5em 0.4em;box-sizing: border-box;padding-bottom: 0.4em;background-color: white;}#sk-container-id-1 div.sk-label label {font-family: monospace;font-weight: bold;display: inline-block;line-height: 1.2em;}#sk-container-id-1 div.sk-label-container {text-align: center;}#sk-container-id-1 div.sk-container {/* jupyter's `normalize.less` sets `[hidden] { display: none; }` but bootstrap.min.css set `[hidden] { display: none !important; }` so we also need the `!important` here to be able to override the default hidden behavior on the sphinx rendered scikit-learn.org. See: https://github.com/scikit-learn/scikit-learn/issues/21755 */display: inline-block !important;position: relative;}#sk-container-id-1 div.sk-text-repr-fallback {display: none;}</style><div id=\"sk-container-id-1\" class=\"sk-top-container\"><div class=\"sk-text-repr-fallback\"><pre>MLPClassifier(hidden_layer_sizes=(100, 50), max_iter=1000)</pre><b>In a Jupyter environment, please rerun this cell to show the HTML representation or trust the notebook. <br />On GitHub, the HTML representation is unable to render, please try loading this page with nbviewer.org.</b></div><div class=\"sk-container\" hidden><div class=\"sk-item\"><div class=\"sk-estimator sk-toggleable\"><input class=\"sk-toggleable__control sk-hidden--visually\" id=\"sk-estimator-id-1\" type=\"checkbox\" checked><label for=\"sk-estimator-id-1\" class=\"sk-toggleable__label sk-toggleable__label-arrow\">MLPClassifier</label><div class=\"sk-toggleable__content\"><pre>MLPClassifier(hidden_layer_sizes=(100, 50), max_iter=1000)</pre></div></div></div></div></div>"
      ],
      "text/plain": [
       "MLPClassifier(hidden_layer_sizes=(100, 50), max_iter=1000)"
      ]
     },
     "execution_count": 36,
     "metadata": {},
     "output_type": "execute_result"
    }
   ],
   "source": [
    "# Train model\n",
    "\n",
    "# Code here\n",
    "\n",
    "clf.fit(X_train, y_train)"
   ]
  },
  {
   "cell_type": "markdown",
   "metadata": {},
   "source": [
    "### Display the accuracy and the f1 score on the test data set\n",
    "\n",
    "You may use Sklearns built in functions"
   ]
  },
  {
   "cell_type": "code",
   "execution_count": 42,
   "metadata": {},
   "outputs": [
    {
     "name": "stdout",
     "output_type": "stream",
     "text": [
      "Validation set accuracy: 0.18026362664766654\n",
      "Validation set F1 score: 0.15191739913828867\n",
      "Test set accuracy: 0.17966666666666667\n",
      "Test set F1 score: 0.14897311944688651\n"
     ]
    }
   ],
   "source": [
    "\n",
    "#code here\n",
    "# evaluate on validation set\n",
    "X_val = np.array(X_val)\n",
    "X_val_2d = np.reshape(X_val, (X_val.shape[0], X_val.shape[1]*X_val.shape[2]))\n",
    "val_preds = clf.predict(X_val_2d)\n",
    "val_acc = accuracy_score(y_val, val_preds)\n",
    "val_f1 = f1_score(y_val, val_preds, average='weighted')\n",
    "print(\"Validation set accuracy:\", val_acc)\n",
    "print(\"Validation set F1 score:\", val_f1)\n",
    "\n",
    "# evaluate on test set\n",
    "images_test = np.array(images_test)\n",
    "images_test_2d = np.reshape(images_test, (images_test.shape[0], images_test.shape[1]*images_test.shape[2]))\n",
    "test_preds = clf.predict(images_test_2d)\n",
    "test_acc = accuracy_score(labels_test, test_preds)\n",
    "test_f1 = f1_score(labels_test, test_preds, average='weighted')\n",
    "print(\"Test set accuracy:\", test_acc)\n",
    "print(\"Test set F1 score:\", test_f1)\n"
   ]
  },
  {
   "cell_type": "markdown",
   "metadata": {},
   "source": [
    "### Display the confusion matrix \n",
    "\n",
    "Use sklearns built in function and seaborn for visualization, make sure to annonate the classes"
   ]
  },
  {
   "cell_type": "code",
   "execution_count": 43,
   "metadata": {},
   "outputs": [
    {
     "data": {
      "text/plain": [
       "<AxesSubplot: >"
      ]
     },
     "execution_count": 43,
     "metadata": {},
     "output_type": "execute_result"
    },
    {
     "data": {
      "image/png": "[encoded data removed]",
      "text/plain": [
       "<Figure size 640x480 with 2 Axes>"
      ]
     },
     "metadata": {},
     "output_type": "display_data"
    }
   ],
   "source": [
    "\n",
    "#code here\n",
    "# display confusion matrix\n",
    "cm = confusion_matrix(labels_test, test_preds)\n",
    "sns.heatmap(cm, annot=True, fmt='g', cmap='Blues', xticklabels=label_enc.classes_, yticklabels=label_enc.classes_)"
   ]
  },
  {
   "attachments": {},
   "cell_type": "markdown",
   "metadata": {},
   "source": [
    "## Bonus Part\n",
    "### [10 marks]\n",
    "\n",
    "### Maximize the accuracy to network parameter ratio and display it. This will be marked relatively\n",
    "\n",
    "you may use get_params() or dirrectly use your hidden layer tuple to calculate parameters\n",
    "\n",
    "To achieve marks your accuracy needs to be atleast 55%"
   ]
  },
  {
   "cell_type": "code",
   "execution_count": null,
   "metadata": {},
   "outputs": [],
   "source": [
    "\n",
    "    "
   ]
  },
  {
   "cell_type": "code",
   "execution_count": null,
   "metadata": {},
   "outputs": [],
   "source": []
  },
  {
   "attachments": {},
   "cell_type": "markdown",
   "metadata": {},
   "source": [
    "# PART 3 [Neural Network from scratch]\n",
    "### [50 marks]\n",
    "Please go through the manual for details on this part. You are to use the `part3.csv` to train a model which you are going to make WITHOUT USING LIBRARIES. As you will see, since the data is completely seperable, your model should be able to get 100% accuracy, or something very close to it."
   ]
  },
  {
   "cell_type": "code",
   "execution_count": null,
   "metadata": {},
   "outputs": [],
   "source": [
    "# Read the file here into your preferred data structure."
   ]
  },
  {
   "cell_type": "code",
   "execution_count": null,
   "metadata": {},
   "outputs": [],
   "source": [
    "'''\n",
    "Visualise the dataset using a SINGLE scatter plot.\n",
    "Make sure to include:\n",
    "1. Different coloured points for each class\n",
    "2. A legend\n",
    "3. x and y labels\n",
    "4. PLot title\n",
    "'''\n",
    "\n",
    "# code here"
   ]
  },
  {
   "cell_type": "code",
   "execution_count": null,
   "metadata": {},
   "outputs": [],
   "source": [
    "# GETTING THE TEST AND TRAIN DATASETS [you are allowed to use a library for this]"
   ]
  },
  {
   "cell_type": "code",
   "execution_count": null,
   "metadata": {},
   "outputs": [],
   "source": [
    "# NEURAL NETWORK FROM SCRATCH AND TRAINING "
   ]
  },
  {
   "cell_type": "code",
   "execution_count": null,
   "metadata": {},
   "outputs": [],
   "source": [
    "# TESTING AND ACCURACY"
   ]
  },
  {
   "attachments": {},
   "cell_type": "markdown",
   "metadata": {},
   "source": [
    "# And that's it! You're done with the programming part of this course :D"
   ]
  }
 ],
 "metadata": {
  "kernelspec": {
   "display_name": "base",
   "language": "python",
   "name": "python3"
  },
  "language_info": {
   "codemirror_mode": {
    "name": "ipython",
    "version": 3
   },
   "file_extension": ".py",
   "mimetype": "text/x-python",
   "name": "python",
   "nbconvert_exporter": "python",
   "pygments_lexer": "ipython3",
   "version": "3.10.6"
  },
  "orig_nbformat": 4
 },
 "nbformat": 4,
 "nbformat_minor": 2
}
